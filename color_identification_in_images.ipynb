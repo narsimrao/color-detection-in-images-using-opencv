{
  "nbformat": 4,
  "nbformat_minor": 0,
  "metadata": {
    "colab": {
      "name": "color identification in images.ipynb",
      "provenance": []
    },
    "kernelspec": {
      "name": "python370jvsc74a57bd0f425a737ba1d53b5c9519b65a9e0146aee4c08129e35f8cd75975c65554c6bf4",
      "display_name": "Python 3.7.0 64-bit"
    },
    "language_info": {
      "name": "python",
      "version": "3.7.0"
    }
  },
  "cells": [
    {
      "source": [
        "Sparks Foundation\n",
        "\n",
        "Computer vision and IOT #Task2\n",
        "\n",
        "-Narasimha Rao KP"
      ],
      "cell_type": "markdown",
      "metadata": {}
    },
    {
      "cell_type": "code",
      "metadata": {
        "id": "P8SOFTaDGf3r"
      },
      "source": [
        "import cv2\n",
        "import numpy as np\n",
        "import pandas as pd"
      ],
      "execution_count": 39,
      "outputs": []
    },
    {
      "cell_type": "code",
      "metadata": {
        "colab": {
          "base_uri": "https://localhost:8080/",
          "height": 202
        },
        "id": "xqRKt1FCMaWg",
        "outputId": "38f79376-993f-4a96-cfb5-8aebef63f982"
      },
      "source": [
        "csv = pd.read_csv('colors.csv',names=[\"color\", \"color_name\", \"hex\", \"R\", \"G\", \"B\"])\n",
        "csv.head()"
      ],
      "execution_count": 40,
      "outputs": [
        {
          "output_type": "execute_result",
          "data": {
            "text/plain": [
              "                  color             color_name      hex    R    G    B\n",
              "0    air_force_blue_raf   Air Force Blue (Raf)  #5d8aa8   93  138  168\n",
              "1   air_force_blue_usaf  Air Force Blue (Usaf)  #00308f    0   48  143\n",
              "2  air_superiority_blue   Air Superiority Blue  #72a0c1  114  160  193\n",
              "3       alabama_crimson        Alabama Crimson  #a32638  163   38   56\n",
              "4            alice_blue             Alice Blue  #f0f8ff  240  248  255"
            ],
            "text/html": "<div>\n<style scoped>\n    .dataframe tbody tr th:only-of-type {\n        vertical-align: middle;\n    }\n\n    .dataframe tbody tr th {\n        vertical-align: top;\n    }\n\n    .dataframe thead th {\n        text-align: right;\n    }\n</style>\n<table border=\"1\" class=\"dataframe\">\n  <thead>\n    <tr style=\"text-align: right;\">\n      <th></th>\n      <th>color</th>\n      <th>color_name</th>\n      <th>hex</th>\n      <th>R</th>\n      <th>G</th>\n      <th>B</th>\n    </tr>\n  </thead>\n  <tbody>\n    <tr>\n      <th>0</th>\n      <td>air_force_blue_raf</td>\n      <td>Air Force Blue (Raf)</td>\n      <td>#5d8aa8</td>\n      <td>93</td>\n      <td>138</td>\n      <td>168</td>\n    </tr>\n    <tr>\n      <th>1</th>\n      <td>air_force_blue_usaf</td>\n      <td>Air Force Blue (Usaf)</td>\n      <td>#00308f</td>\n      <td>0</td>\n      <td>48</td>\n      <td>143</td>\n    </tr>\n    <tr>\n      <th>2</th>\n      <td>air_superiority_blue</td>\n      <td>Air Superiority Blue</td>\n      <td>#72a0c1</td>\n      <td>114</td>\n      <td>160</td>\n      <td>193</td>\n    </tr>\n    <tr>\n      <th>3</th>\n      <td>alabama_crimson</td>\n      <td>Alabama Crimson</td>\n      <td>#a32638</td>\n      <td>163</td>\n      <td>38</td>\n      <td>56</td>\n    </tr>\n    <tr>\n      <th>4</th>\n      <td>alice_blue</td>\n      <td>Alice Blue</td>\n      <td>#f0f8ff</td>\n      <td>240</td>\n      <td>248</td>\n      <td>255</td>\n    </tr>\n  </tbody>\n</table>\n</div>"
          },
          "metadata": {},
          "execution_count": 40
        }
      ]
    },
    {
      "cell_type": "code",
      "metadata": {
        "colab": {
          "base_uri": "https://localhost:8080/",
          "height": 316
        },
        "id": "Jst78LO_Glba",
        "outputId": "3d01f732-6c10-491f-dded-9981a9389641"
      },
      "source": [
        "image = cv2.imread('flower.jpg')"
      ],
      "execution_count": 41,
      "outputs": []
    },
    {
      "cell_type": "code",
      "metadata": {
        "id": "rmRWlp5nNOYY"
      },
      "source": [
        "clicked = False\n",
        "r = g = b = xpos = ypos = 0"
      ],
      "execution_count": 42,
      "outputs": []
    },
    {
      "cell_type": "code",
      "metadata": {
        "id": "Y2sWJxkyNQSw"
      },
      "source": [
        "def recognize_color(R,G,B):\n",
        "    minimum = 10000\n",
        "    for i in range(len(csv)):\n",
        "        d = abs(R- int(csv.loc[i,\"R\"])) + abs(G- int(csv.loc[i,\"G\"]))+ abs(B- int(csv.loc[i,\"B\"]))\n",
        "        if(d<=minimum):\n",
        "            minimum = d\n",
        "            cname = csv.loc[i,\"color_name\"]\n",
        "    return cname"
      ],
      "execution_count": 43,
      "outputs": []
    },
    {
      "cell_type": "code",
      "metadata": {
        "id": "1eR4ew-6NSvo"
      },
      "source": [
        "def mouse_click(event, x, y, flags, param):\n",
        "    if event == cv2.EVENT_LBUTTONDBLCLK:\n",
        "        global b,g,r,xpos,ypos, clicked\n",
        "        clicked = True\n",
        "        xpos = x\n",
        "        ypos = y\n",
        "        b,g,r = image[y,x]\n",
        "        b = int(b)\n",
        "        g = int(g)\n",
        "        r = int(r)"
      ],
      "execution_count": 44,
      "outputs": []
    },
    {
      "cell_type": "code",
      "metadata": {
        "id": "9iHn_WfgNU7Q"
      },
      "source": [
        "cv2.namedWindow('Color Recognition App')"
      ],
      "execution_count": 45,
      "outputs": []
    },
    {
      "cell_type": "code",
      "execution_count": 46,
      "metadata": {},
      "outputs": [],
      "source": [
        "cv2.setMouseCallback('Color Recognition App', mouse_click)"
      ]
    },
    {
      "cell_type": "code",
      "execution_count": 47,
      "metadata": {},
      "outputs": [],
      "source": [
        "while(1):\n",
        "    cv2.imshow(\"Color Recognition App\",image)\n",
        "    if (clicked):\n",
        "        #cv2.rectangle(image, startpoint, endpoint, color, thickness)-1 fills entire rectangle \n",
        "        cv2.rectangle(image,(20,20), (750,60), (b,g,r), -1)\n",
        "#Creating text string to display( Color name and RGB values )\n",
        "        text = recognize_color(r,g,b) + ' RGB ='+ '(' + str(r) +  ' ,'+ str(g) +  ' ,'+ str(b)+ ')'\n",
        "        \n",
        "        #cv2.putText(img,text,start,font(0-7),fontScale,color,thickness,lineType )\n",
        "        cv2.putText(image, text,(50,50),cv2.FONT_HERSHEY_SIMPLEX,0.8,(255,255,255),1,cv2.LINE_AA)\n",
        "#For very light colours we will display text in black colour\n",
        "        if(r+g+b>=600):\n",
        "            cv2.putText(image, text,(50,50),cv2.FONT_HERSHEY_SIMPLEX,0.8,(0,0,0),1,cv2.LINE_AA)\n",
        "            \n",
        "        clicked=False\n",
        "\n",
        "        #Break the loop when user hits 'esc' key    \n",
        "    if cv2.waitKey(20) & 0xFF ==27:\n",
        "        break\n",
        "cv2.destroyAllWindows()"
      ]
    },
    {
      "cell_type": "code",
      "execution_count": null,
      "metadata": {},
      "outputs": [],
      "source": []
    }
  ]
}